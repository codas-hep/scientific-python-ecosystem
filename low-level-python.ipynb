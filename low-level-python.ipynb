{
 "cells": [
  {
   "cell_type": "markdown",
   "metadata": {
    "slideshow": {
     "slide_type": "slide"
    }
   },
   "source": [
    "# Low-level Python"
   ]
  },
  {
   "cell_type": "markdown",
   "metadata": {
    "slideshow": {
     "slide_type": "slide"
    }
   },
   "source": [
    "# PyCUDA (and PyOpenCL): arbitrary GPU programming"
   ]
  },
  {
   "cell_type": "markdown",
   "metadata": {
    "slideshow": {
     "slide_type": "slide"
    }
   },
   "source": [
    "The lowest of low-level programming— programming and running accelerator devices— can be done from the comfort of a notebook."
   ]
  },
  {
   "cell_type": "code",
   "execution_count": null,
   "metadata": {},
   "outputs": [],
   "source": [
    "import pycuda\n",
    "import pycuda.autoinit\n",
    "import pycuda.driver\n",
    "import pycuda.compiler\n",
    "\n",
    "compiled_cuda = pycuda.compiler.SourceModule(\"\"\"\n",
    "__global__ void runs_on_gpu(float* p, float* px, float* py, float* pz) {\n",
    "    const int i = blockDim.x * blockIdx.x + threadIdx.x;\n",
    "    if (i < 1000000) {\n",
    "        p[i] = sqrt(px[i]*px[i] + py[i]*py[i] + pz[i]*pz[i]);\n",
    "    }\n",
    "}\"\"\")\n",
    "runs_on_gpu = compiled_cuda.get_function(\"runs_on_gpu\")"
   ]
  },
  {
   "cell_type": "code",
   "execution_count": null,
   "metadata": {},
   "outputs": [],
   "source": [
    "import numpy\n",
    "\n",
    "px = pycuda.driver.In(numpy.random.normal(0, 10, 1000000).astype(numpy.float32))\n",
    "py = pycuda.driver.In(numpy.random.normal(0, 10, 1000000).astype(dtype=numpy.float32))\n",
    "pz = pycuda.driver.In(numpy.random.normal(0, 100, 1000000).astype(dtype=numpy.float32))\n",
    "p = numpy.zeros(1000000, dtype=numpy.float32)\n",
    "\n",
    "runs_on_gpu(pycuda.driver.Out(p), px, py, pz, block=(1024, 1, 1), grid=(1000000 // 1024 + 1, 1))"
   ]
  },
  {
   "cell_type": "code",
   "execution_count": null,
   "metadata": {},
   "outputs": [],
   "source": [
    "p"
   ]
  },
  {
   "cell_type": "markdown",
   "metadata": {
    "slideshow": {
     "slide_type": "slide"
    }
   },
   "source": [
    "Working with Numpy arrays is already GPU-like."
   ]
  },
  {
   "cell_type": "code",
   "execution_count": null,
   "metadata": {},
   "outputs": [],
   "source": [
    "import pycuda.gpuarray\n",
    "\n",
    "px = pycuda.gpuarray.to_gpu(numpy.random.normal(0, 10, 1000000))\n",
    "py = pycuda.gpuarray.to_gpu(numpy.random.normal(0, 10, 1000000))\n",
    "pz = pycuda.gpuarray.to_gpu(numpy.random.normal(0, 100, 1000000))\n",
    "\n",
    "type(px)"
   ]
  },
  {
   "cell_type": "code",
   "execution_count": null,
   "metadata": {},
   "outputs": [],
   "source": [
    "p = (px**2 + py**2 + pz**2)**0.5\n",
    "type(p)"
   ]
  },
  {
   "cell_type": "code",
   "execution_count": null,
   "metadata": {},
   "outputs": [],
   "source": [
    "p.get()"
   ]
  },
  {
   "cell_type": "markdown",
   "metadata": {
    "slideshow": {
     "slide_type": "fragment"
    }
   },
   "source": [
    "Isn't that what CuPy does? Yes, yes it is.\n",
    "\n",
    "Once, there was also a \"gnumpy\" (U Toronto CS dept). Like Numeric and numarray, this is an active area of development."
   ]
  },
  {
   "cell_type": "markdown",
   "metadata": {
    "slideshow": {
     "slide_type": "slide"
    }
   },
   "source": [
    "# Numba-CUDA: compile *Python* code on the GPU"
   ]
  },
  {
   "cell_type": "markdown",
   "metadata": {
    "slideshow": {
     "slide_type": "slide"
    }
   },
   "source": [
    "Numba can compile a subset of Python for CPUs with LLVM or GPUs with CUDA."
   ]
  },
  {
   "cell_type": "code",
   "execution_count": null,
   "metadata": {},
   "outputs": [],
   "source": [
    "import math\n",
    "import numba.cuda\n",
    "\n",
    "@numba.cuda.jit\n",
    "def runs_on_gpu(p, px, py, pz):\n",
    "    i = numba.cuda.grid(1)\n",
    "    p[i] = math.sqrt(px[i]**2 + py[i]**2 + pz[i]**2)"
   ]
  },
  {
   "cell_type": "code",
   "execution_count": null,
   "metadata": {},
   "outputs": [],
   "source": [
    "px = numpy.random.normal(0, 10, 1000000)\n",
    "py = numpy.random.normal(0, 10, 1000000)\n",
    "pz = numpy.random.normal(0, 100, 1000000)\n",
    "p = numpy.zeros(1000000)\n",
    "\n",
    "runs_on_gpu(p, px, py, pz)"
   ]
  },
  {
   "cell_type": "code",
   "execution_count": null,
   "metadata": {},
   "outputs": [],
   "source": [
    "p"
   ]
  },
  {
   "cell_type": "markdown",
   "metadata": {
    "slideshow": {
     "slide_type": "slide"
    }
   },
   "source": [
    "# "
   ]
  }
 ],
 "metadata": {
  "celltoolbar": "Slideshow",
  "kernelspec": {
   "display_name": "Python 3",
   "language": "python",
   "name": "python3"
  },
  "language_info": {
   "codemirror_mode": {
    "name": "ipython",
    "version": 3
   },
   "file_extension": ".py",
   "mimetype": "text/x-python",
   "name": "python",
   "nbconvert_exporter": "python",
   "pygments_lexer": "ipython3",
   "version": "3.5.2"
  }
 },
 "nbformat": 4,
 "nbformat_minor": 2
}
