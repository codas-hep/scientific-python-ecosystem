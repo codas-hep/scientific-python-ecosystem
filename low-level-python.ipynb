{
 "cells": [
  {
   "cell_type": "markdown",
   "metadata": {
    "slideshow": {
     "slide_type": "slide"
    }
   },
   "source": [
    "# Python-C interoperability"
   ]
  },
  {
   "cell_type": "markdown",
   "metadata": {
    "slideshow": {
     "slide_type": "slide"
    }
   },
   "source": [
    "Python has an [excellent C API](https://docs.python.org/3/c-api/index.html) for writing extension modules in C/C++. Let's not use it."
   ]
  },
  {
   "cell_type": "code",
   "execution_count": 31,
   "metadata": {
    "slideshow": {
     "slide_type": "fragment"
    }
   },
   "outputs": [],
   "source": [
    "with open(\"tmp.c\", \"w\") as file:\n",
    "    file.write(\"\"\"\n",
    "#include <math.h>\n",
    "void runs_in_c(int N, double* p, double* px, double* py, double* pz) {\n",
    "    int i;\n",
    "    for (i = 0;  i < N;  i++) {\n",
    "        p[i] = sqrt(px[i]*px[i] + py[i]*py[i] + pz[i]*pz[i]);\n",
    "    }\n",
    "}\"\"\")\n",
    "import os\n",
    "assert os.system(\"gcc -fPIC -shared tmp.c -o libtmp.so\") == 0"
   ]
  },
  {
   "cell_type": "code",
   "execution_count": 32,
   "metadata": {
    "slideshow": {
     "slide_type": "fragment"
    }
   },
   "outputs": [],
   "source": [
    "import ctypes\n",
    "libtmp = ctypes.cdll.LoadLibrary(\"./libtmp.so\")"
   ]
  },
  {
   "cell_type": "code",
   "execution_count": 33,
   "metadata": {
    "slideshow": {
     "slide_type": "fragment"
    }
   },
   "outputs": [],
   "source": [
    "libtmp.runs_in_c.argtypes = (ctypes.c_int, ctypes.c_void_p, ctypes.c_void_p, ctypes.c_void_p, ctypes.c_void_p)\n",
    "libtmp.runs_in_c.restype = None"
   ]
  },
  {
   "cell_type": "code",
   "execution_count": 34,
   "metadata": {
    "slideshow": {
     "slide_type": "fragment"
    }
   },
   "outputs": [],
   "source": [
    "import numpy\n",
    "px = numpy.random.normal(0, 10, 1000000)\n",
    "py = numpy.random.normal(0, 10, 1000000)\n",
    "pz = numpy.random.normal(0, 10, 1000000)\n",
    "p = numpy.zeros(1000000)\n",
    "\n",
    "libtmp.runs_in_c(1000000, p.ctypes.data, px.ctypes.data, py.ctypes.data, pz.ctypes.data)"
   ]
  },
  {
   "cell_type": "code",
   "execution_count": 37,
   "metadata": {},
   "outputs": [
    {
     "data": {
      "text/plain": [
       "array([ 4.86754537, 29.86413297, 16.75806587, ...,  9.89957211,\n",
       "       25.83591947, 23.8126184 ])"
      ]
     },
     "execution_count": 37,
     "metadata": {},
     "output_type": "execute_result"
    }
   ],
   "source": [
    "p"
   ]
  },
  {
   "cell_type": "markdown",
   "metadata": {
    "slideshow": {
     "slide_type": "slide"
    }
   },
   "source": [
    "**Going the other way:** running Python in C.\n",
    "\n",
    "The GNU Scientific Library is a large collection of C functions, some of which take functions as arguments:\n",
    "\n",
    "```c\n",
    "struct gsl_function {\n",
    "    double (*function) (double x, void* params);\n",
    "    void* params;\n",
    "};\n",
    "```\n",
    "\n",
    "Let's convince GSL to take a Python function as though it were a C function (in its derivative-calculating method)."
   ]
  },
  {
   "cell_type": "code",
   "execution_count": 46,
   "metadata": {
    "slideshow": {
     "slide_type": "slide"
    }
   },
   "outputs": [],
   "source": [
    "def f(x, params):\n",
    "    out = 3*x**2 + 2*x + 1\n",
    "    print(\"f({}) = {}\".format(x, out))\n",
    "    return out"
   ]
  },
  {
   "cell_type": "code",
   "execution_count": 47,
   "metadata": {
    "slideshow": {
     "slide_type": "fragment"
    }
   },
   "outputs": [],
   "source": [
    "# express the (double, double -> void) function type in ctypes\n",
    "func_type = ctypes.CFUNCTYPE(ctypes.c_double, ctypes.c_double, ctypes.c_void_p)\n",
    "\n",
    "# express the gsl_function struct in ctypes\n",
    "class gsl_function(ctypes.Structure):\n",
    "    _fields_ = [(\"f\", func_type), (\"params\", ctypes.c_void_p)]\n",
    "\n",
    "# make a ctypes object for the function\n",
    "callback = gsl_function(func_type(f), 0)"
   ]
  },
  {
   "cell_type": "code",
   "execution_count": 52,
   "metadata": {
    "slideshow": {
     "slide_type": "fragment"
    }
   },
   "outputs": [
    {
     "name": "stdout",
     "output_type": "stream",
     "text": [
      "f(1.99999999) = 16.999999860000003\n",
      "f(2.00000001) = 17.000000139999997\n",
      "f(1.999999995) = 16.99999993\n",
      "f(2.000000005) = 17.00000007\n"
     ]
    }
   ],
   "source": [
    "gslcblas = ctypes.CDLL(\"libgslcblas.so\", mode=ctypes.RTLD_GLOBAL)\n",
    "gsl = ctypes.CDLL(\"libgsl.so\")\n",
    "\n",
    "# pointers to GSL's output: result and abserr\n",
    "p_result = ctypes.POINTER(ctypes.c_double)(ctypes.c_double(-1))\n",
    "p_abserr = ctypes.POINTER(ctypes.c_double)(ctypes.c_double(-1))\n",
    "\n",
    "# call the function\n",
    "assert gsl.gsl_deriv_central(\n",
    "    ctypes.POINTER(gsl_function)(callback), ctypes.c_double(2), ctypes.c_double(1e-8), p_result, p_abserr) == 0"
   ]
  },
  {
   "cell_type": "code",
   "execution_count": 53,
   "metadata": {},
   "outputs": [
    {
     "data": {
      "text/plain": [
       "(13.999999737279722, 2.886579852358283e-06)"
      ]
     },
     "execution_count": 53,
     "metadata": {},
     "output_type": "execute_result"
    }
   ],
   "source": [
    "p_result[0], p_abserr[0]"
   ]
  },
  {
   "cell_type": "markdown",
   "metadata": {
    "slideshow": {
     "slide_type": "slide"
    }
   },
   "source": [
    "**Doing it in ROOT:** ROOT has a built-in compiler and PyROOT automatically generates bindings."
   ]
  },
  {
   "cell_type": "code",
   "execution_count": 1,
   "metadata": {
    "slideshow": {
     "slide_type": "-"
    }
   },
   "outputs": [
    {
     "name": "stdout",
     "output_type": "stream",
     "text": [
      "Welcome to JupyROOT 6.10/02\n"
     ]
    }
   ],
   "source": [
    "import ROOT"
   ]
  },
  {
   "cell_type": "code",
   "execution_count": 5,
   "metadata": {},
   "outputs": [
    {
     "data": {
      "text/plain": [
       "True"
      ]
     },
     "execution_count": 5,
     "metadata": {},
     "output_type": "execute_result"
    }
   ],
   "source": [
    "ROOT.gInterpreter.Declare(\"\"\"\n",
    "void runs_in_cpp(int N, double* p, double* px, double* py, double* pz) {\n",
    "    int i;\n",
    "    for (i = 0;  i < N;  i++) {\n",
    "        p[i] = sqrt(px[i]*px[i] + py[i]*py[i] + pz[i]*pz[i]);\n",
    "    }\n",
    "}\"\"\")"
   ]
  },
  {
   "cell_type": "code",
   "execution_count": 6,
   "metadata": {},
   "outputs": [],
   "source": [
    "import numpy\n",
    "px = numpy.random.normal(0, 10, 1000000)\n",
    "py = numpy.random.normal(0, 10, 1000000)\n",
    "pz = numpy.random.normal(0, 10, 1000000)\n",
    "p = numpy.zeros(1000000)\n",
    "\n",
    "ROOT.runs_in_cpp(1000000, p, px, py, pz)"
   ]
  },
  {
   "cell_type": "code",
   "execution_count": 7,
   "metadata": {},
   "outputs": [
    {
     "data": {
      "text/plain": [
       "array([ 6.86163698,  7.71003888, 26.79174061, ..., 18.24302702,\n",
       "       16.27478819, 11.20169216])"
      ]
     },
     "execution_count": 7,
     "metadata": {},
     "output_type": "execute_result"
    }
   ],
   "source": [
    "p"
   ]
  },
  {
   "cell_type": "markdown",
   "metadata": {
    "slideshow": {
     "slide_type": "slide"
    }
   },
   "source": [
    "**To mix Python objects with C++ objects, use Cython.**"
   ]
  },
  {
   "cell_type": "code",
   "execution_count": null,
   "metadata": {},
   "outputs": [],
   "source": []
  },
  {
   "cell_type": "code",
   "execution_count": null,
   "metadata": {},
   "outputs": [],
   "source": []
  },
  {
   "cell_type": "code",
   "execution_count": null,
   "metadata": {},
   "outputs": [],
   "source": []
  },
  {
   "cell_type": "code",
   "execution_count": null,
   "metadata": {},
   "outputs": [],
   "source": []
  },
  {
   "cell_type": "code",
   "execution_count": null,
   "metadata": {},
   "outputs": [],
   "source": []
  },
  {
   "cell_type": "code",
   "execution_count": null,
   "metadata": {},
   "outputs": [],
   "source": []
  },
  {
   "cell_type": "code",
   "execution_count": null,
   "metadata": {},
   "outputs": [],
   "source": []
  },
  {
   "cell_type": "code",
   "execution_count": null,
   "metadata": {},
   "outputs": [],
   "source": []
  },
  {
   "cell_type": "code",
   "execution_count": null,
   "metadata": {},
   "outputs": [],
   "source": []
  },
  {
   "cell_type": "markdown",
   "metadata": {
    "slideshow": {
     "slide_type": "slide"
    }
   },
   "source": [
    "# PyCUDA (and PyOpenCL): arbitrary GPU programming"
   ]
  },
  {
   "cell_type": "markdown",
   "metadata": {
    "slideshow": {
     "slide_type": "slide"
    }
   },
   "source": [
    "The lowest of low-level programming— programming and running accelerator devices— can be done from the comfort of a notebook."
   ]
  },
  {
   "cell_type": "code",
   "execution_count": null,
   "metadata": {},
   "outputs": [],
   "source": [
    "import pycuda\n",
    "import pycuda.autoinit\n",
    "import pycuda.driver\n",
    "import pycuda.compiler\n",
    "\n",
    "compiled_cuda = pycuda.compiler.SourceModule(\"\"\"\n",
    "__global__ void runs_on_gpu(float* p, float* px, float* py, float* pz) {\n",
    "    const int i = blockDim.x * blockIdx.x + threadIdx.x;\n",
    "    if (i < 1000000) {\n",
    "        p[i] = sqrt(px[i]*px[i] + py[i]*py[i] + pz[i]*pz[i]);\n",
    "    }\n",
    "}\"\"\")\n",
    "runs_on_gpu = compiled_cuda.get_function(\"runs_on_gpu\")"
   ]
  },
  {
   "cell_type": "code",
   "execution_count": null,
   "metadata": {},
   "outputs": [],
   "source": [
    "import numpy\n",
    "\n",
    "px = pycuda.driver.In(numpy.random.normal(0, 10, 1000000).astype(numpy.float32))\n",
    "py = pycuda.driver.In(numpy.random.normal(0, 10, 1000000).astype(dtype=numpy.float32))\n",
    "pz = pycuda.driver.In(numpy.random.normal(0, 100, 1000000).astype(dtype=numpy.float32))\n",
    "p = numpy.zeros(1000000, dtype=numpy.float32)\n",
    "\n",
    "runs_on_gpu(pycuda.driver.Out(p), px, py, pz, block=(1024, 1, 1), grid=(1000000 // 1024 + 1, 1))"
   ]
  },
  {
   "cell_type": "code",
   "execution_count": null,
   "metadata": {},
   "outputs": [],
   "source": [
    "p"
   ]
  },
  {
   "cell_type": "markdown",
   "metadata": {
    "slideshow": {
     "slide_type": "slide"
    }
   },
   "source": [
    "Working with Numpy arrays is already GPU-like."
   ]
  },
  {
   "cell_type": "code",
   "execution_count": null,
   "metadata": {},
   "outputs": [],
   "source": [
    "import pycuda.gpuarray\n",
    "\n",
    "px = pycuda.gpuarray.to_gpu(numpy.random.normal(0, 10, 1000000))\n",
    "py = pycuda.gpuarray.to_gpu(numpy.random.normal(0, 10, 1000000))\n",
    "pz = pycuda.gpuarray.to_gpu(numpy.random.normal(0, 100, 1000000))\n",
    "\n",
    "type(px)"
   ]
  },
  {
   "cell_type": "code",
   "execution_count": null,
   "metadata": {},
   "outputs": [],
   "source": [
    "p = (px**2 + py**2 + pz**2)**0.5\n",
    "type(p)"
   ]
  },
  {
   "cell_type": "code",
   "execution_count": null,
   "metadata": {},
   "outputs": [],
   "source": [
    "p.get()"
   ]
  },
  {
   "cell_type": "markdown",
   "metadata": {
    "slideshow": {
     "slide_type": "fragment"
    }
   },
   "source": [
    "Isn't that what CuPy does? Yes, yes it is.\n",
    "\n",
    "Once, there was also a \"gnumpy\" (U Toronto CS dept). Like Numeric and numarray, this is an active area of development."
   ]
  },
  {
   "cell_type": "markdown",
   "metadata": {
    "slideshow": {
     "slide_type": "slide"
    }
   },
   "source": [
    "# Numba-CUDA: compile *Python* code on the GPU"
   ]
  },
  {
   "cell_type": "markdown",
   "metadata": {
    "slideshow": {
     "slide_type": "slide"
    }
   },
   "source": [
    "Numba can compile a subset of Python for CPUs with LLVM or GPUs with CUDA."
   ]
  },
  {
   "cell_type": "code",
   "execution_count": null,
   "metadata": {},
   "outputs": [],
   "source": [
    "import math\n",
    "import numba.cuda\n",
    "\n",
    "@numba.cuda.jit\n",
    "def runs_on_gpu(p, px, py, pz):\n",
    "    i = numba.cuda.grid(1)\n",
    "    p[i] = math.sqrt(px[i]**2 + py[i]**2 + pz[i]**2)"
   ]
  },
  {
   "cell_type": "code",
   "execution_count": null,
   "metadata": {},
   "outputs": [],
   "source": [
    "px = numpy.random.normal(0, 10, 1000000)\n",
    "py = numpy.random.normal(0, 10, 1000000)\n",
    "pz = numpy.random.normal(0, 100, 1000000)\n",
    "p = numpy.zeros(1000000)\n",
    "\n",
    "runs_on_gpu(p, px, py, pz)"
   ]
  },
  {
   "cell_type": "code",
   "execution_count": null,
   "metadata": {},
   "outputs": [],
   "source": [
    "p"
   ]
  },
  {
   "cell_type": "markdown",
   "metadata": {
    "slideshow": {
     "slide_type": "slide"
    }
   },
   "source": [
    "# "
   ]
  }
 ],
 "metadata": {
  "celltoolbar": "Slideshow",
  "kernelspec": {
   "display_name": "Python 2",
   "language": "python",
   "name": "python2"
  },
  "language_info": {
   "codemirror_mode": {
    "name": "ipython",
    "version": 2
   },
   "file_extension": ".py",
   "mimetype": "text/x-python",
   "name": "python",
   "nbconvert_exporter": "python",
   "pygments_lexer": "ipython2",
   "version": "2.7.12"
  }
 },
 "nbformat": 4,
 "nbformat_minor": 2
}
