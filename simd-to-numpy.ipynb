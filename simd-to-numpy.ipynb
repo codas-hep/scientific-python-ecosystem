{
 "cells": [
  {
   "cell_type": "markdown",
   "metadata": {},
   "source": [
    "# Hardware SIMD to Numpy cheat sheet\n",
    "\n",
    "## What it means:\n",
    "\n",
    "   * SSE (1999) executes 4/2 floats/doubles in one hardware instruction\n",
    "   * AVX (2008) and AVX2 (2011) executes 8/4 floats/doubles in one hardware instruction\n",
    "   * AVX-512 (2013) executes 16/8 floats/doubles in one hardware instruction\n",
    "   * NVidia GPUs execute 32 values in one hardware instruction (\"warps\")\n",
    "   * AMD GPUs execute 64 values in one hardware instruction (\"wavefront\")\n",
    "   * Numpy functions execute **an arbitrary number** (e.g. millions) of values in one **Python instruction**, and is implemented with the best hardware vectorization available.\n",
    "\n",
    "## Terminology:\n",
    "\n",
    "| hardware vectorization | Numpy vectorization |\n",
    "|-|-|\n",
    "| mask | [fancy indexing with boolean array](https://docs.scipy.org/doc/numpy-1.13.0/user/basics.indexing.html#boolean-or-mask-index-arrays) |\n",
    "| gather | [fancy indexing with integer array](https://docs.scipy.org/doc/numpy-1.13.0/user/basics.indexing.html#index-arrays) (get) |\n",
    "| scatter | [fancy indexing with integer array](https://docs.scipy.org/doc/numpy-1.13.0/user/basics.indexing.html#index-arrays) (set) |\n",
    "| stride | [strides](https://docs.scipy.org/doc/numpy-1.14.0/reference/generated/numpy.ndarray.strides.html) (or reshape-slice-reshape) |\n",
    "| structure packing | [structured array](https://docs.scipy.org/doc/numpy/user/basics.rec.html) or \"recarray\" |\n",
    "\n",
    "## Bottom lines:\n",
    "\n",
    "Numpy vectorization is the same *basic concept* as hardware vectorization, but at a higher level of abstraction: Single (Python) Instruction on Multiple Data, rather than a Single (hardware) Instruction on Multiple Data.\n",
    "\n",
    "Reorganizing code for Numpy speedups enables hardware vectorization: sequential access, simple loops with no loop-carried dependencies."
   ]
  }
 ],
 "metadata": {
  "kernelspec": {
   "display_name": "Python 3",
   "language": "python",
   "name": "python3"
  },
  "language_info": {
   "codemirror_mode": {
    "name": "ipython",
    "version": 3
   },
   "file_extension": ".py",
   "mimetype": "text/x-python",
   "name": "python",
   "nbconvert_exporter": "python",
   "pygments_lexer": "ipython3",
   "version": "3.5.2"
  }
 },
 "nbformat": 4,
 "nbformat_minor": 2
}
