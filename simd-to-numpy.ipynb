{
 "cells": [
  {
   "cell_type": "code",
   "execution_count": 1,
   "metadata": {},
   "outputs": [
    {
     "data": {
      "text/html": [
       "<style>\n",
       "  table {margin-left: 0 !important;}\n",
       "</style>"
      ],
      "text/plain": [
       "<IPython.core.display.HTML object>"
      ]
     },
     "metadata": {},
     "output_type": "display_data"
    }
   ],
   "source": [
    "%%html\n",
    "<style>\n",
    "  table {margin-left: 0 !important;}\n",
    "</style>"
   ]
  },
  {
   "cell_type": "markdown",
   "metadata": {},
   "source": [
    "# Hardware SIMD to Numpy cheat sheet\n",
    "\n",
    "## What it means:\n",
    "\n",
    "   * SSE (1999) executes 2/4 floats/doubles in one hardware instruction\n",
    "   * AVX2 (2011) executes 4/8 floats/doubles in one hardware instruction\n",
    "   * AVX-512 (2013) executes 8/16 floats/doubles in one hardware instruction\n",
    "   * NVidia GPUs execute 32 values in one hardware instruction (\"warps\")\n",
    "   * AMD GPUs execute 64 values in one hardware instruction (\"wavefront\")\n",
    "   * Numpy functions execute **an arbitrary number** (millions) of values in one **Python instruction**, and is implemented with the best hardware vectorization available.\n",
    "\n",
    "## Terminology:\n",
    "\n",
    "| hardware vectorization | Numpy vectorization |\n",
    "|-|-|\n",
    "| mask | [fancy indexing with boolean array](https://docs.scipy.org/doc/numpy-1.13.0/user/basics.indexing.html#boolean-or-mask-index-arrays) |\n",
    "| gather | [fancy indexing with integer array](https://docs.scipy.org/doc/numpy-1.13.0/user/basics.indexing.html#index-arrays) (get) |\n",
    "| scatter | [fancy indexing with integer array](https://docs.scipy.org/doc/numpy-1.13.0/user/basics.indexing.html#index-arrays) (set) |\n",
    "| stride | [strides](https://docs.scipy.org/doc/numpy-1.14.0/reference/generated/numpy.ndarray.strides.html) (or reshape-slice-reshape) |\n",
    "| structure packing | [structured array](https://docs.scipy.org/doc/numpy/user/basics.rec.html) or \"recarray\" |"
   ]
  }
 ],
 "metadata": {
  "kernelspec": {
   "display_name": "Python 3",
   "language": "python",
   "name": "python3"
  },
  "language_info": {
   "codemirror_mode": {
    "name": "ipython",
    "version": 3
   },
   "file_extension": ".py",
   "mimetype": "text/x-python",
   "name": "python",
   "nbconvert_exporter": "python",
   "pygments_lexer": "ipython3",
   "version": "3.5.2"
  }
 },
 "nbformat": 4,
 "nbformat_minor": 2
}
